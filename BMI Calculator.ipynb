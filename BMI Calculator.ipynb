{
 "cells": [
  {
   "cell_type": "code",
   "execution_count": 11,
   "metadata": {},
   "outputs": [],
   "source": [
    "def checkBMI():\n",
    "    weight = int(input())\n",
    "    height = float(input())\n",
    "    \n",
    "    BMI = weight/height**2\n",
    "    \n",
    "    if BMI < 18.5:\n",
    "        return(\"Underweight\")\n",
    "\n",
    "    elif BMI >=18.5 and BMI <=25:\n",
    "        return(\"Normal\")\n",
    "\n",
    "    elif BMI >=25 and BMI <= 30:\n",
    "        return(\"Overweight\")\n",
    "    \n",
    "    else:\n",
    "        return(\"Obesity\")"
   ]
  },
  {
   "cell_type": "code",
   "execution_count": 14,
   "metadata": {},
   "outputs": [
    {
     "name": "stdout",
     "output_type": "stream",
     "text": [
      "53\n",
      "1.57\n"
     ]
    },
    {
     "data": {
      "text/plain": [
       "'Normal'"
      ]
     },
     "execution_count": 14,
     "metadata": {},
     "output_type": "execute_result"
    }
   ],
   "source": [
    "checkBMI()"
   ]
  },
  {
   "cell_type": "code",
   "execution_count": 15,
   "metadata": {},
   "outputs": [
    {
     "name": "stdout",
     "output_type": "stream",
     "text": [
      "108\n",
      "1.60\n"
     ]
    },
    {
     "data": {
      "text/plain": [
       "'Obesity'"
      ]
     },
     "execution_count": 15,
     "metadata": {},
     "output_type": "execute_result"
    }
   ],
   "source": [
    "checkBMI()"
   ]
  },
  {
   "cell_type": "code",
   "execution_count": null,
   "metadata": {},
   "outputs": [],
   "source": []
  }
 ],
 "metadata": {
  "kernelspec": {
   "display_name": "Python 3",
   "language": "python",
   "name": "python3"
  },
  "language_info": {
   "codemirror_mode": {
    "name": "ipython",
    "version": 3
   },
   "file_extension": ".py",
   "mimetype": "text/x-python",
   "name": "python",
   "nbconvert_exporter": "python",
   "pygments_lexer": "ipython3",
   "version": "3.7.4"
  }
 },
 "nbformat": 4,
 "nbformat_minor": 2
}
